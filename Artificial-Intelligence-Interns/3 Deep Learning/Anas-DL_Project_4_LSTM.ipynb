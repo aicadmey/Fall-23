{
  "nbformat": 4,
  "nbformat_minor": 0,
  "metadata": {
    "colab": {
      "provenance": []
    },
    "kernelspec": {
      "name": "python3",
      "display_name": "Python 3"
    },
    "language_info": {
      "name": "python"
    }
  },
  "cells": [
    {
      "cell_type": "code",
      "execution_count": 2,
      "metadata": {
        "colab": {
          "base_uri": "https://localhost:8080/"
        },
        "id": "v016fxdiEC-1",
        "outputId": "4282ac19-fe6a-41ee-8043-4004ec78a732"
      },
      "outputs": [
        {
          "output_type": "stream",
          "name": "stdout",
          "text": [
            "Epoch 1/5\n",
            "782/782 [==============================] - 167s 210ms/step - loss: 0.4207 - accuracy: 0.8074\n",
            "Epoch 2/5\n",
            "782/782 [==============================] - 165s 212ms/step - loss: 0.2699 - accuracy: 0.8931\n",
            "Epoch 3/5\n",
            "782/782 [==============================] - 163s 209ms/step - loss: 0.1930 - accuracy: 0.9257\n",
            "Epoch 4/5\n",
            "782/782 [==============================] - 165s 210ms/step - loss: 0.1440 - accuracy: 0.9466\n",
            "Epoch 5/5\n",
            "782/782 [==============================] - 165s 210ms/step - loss: 0.0955 - accuracy: 0.9662\n",
            "782/782 [==============================] - 51s 64ms/step - loss: 0.5419 - accuracy: 0.8345\n",
            "Test Loss: 0.5419\n",
            "Test Accuracy: 83.45%\n"
          ]
        }
      ],
      "source": [
        "import tensorflow as tf\n",
        "from tensorflow.keras.datasets import imdb\n",
        "from tensorflow.keras.models import Sequential\n",
        "from tensorflow.keras.layers import Embedding, LSTM, Dense\n",
        "from tensorflow.keras.preprocessing.sequence import pad_sequences\n",
        "\n",
        "#LOADING THE DATASET\n",
        "num_words = 10000\n",
        "(x_train, y_train), (x_test, y_test) = imdb.load_data(num_words=num_words)\n",
        "\n",
        "#PREPROCESS THE DATA\n",
        "max_length = 100\n",
        "x_train = pad_sequences(x_train, maxlen=max_length)\n",
        "x_test = pad_sequences(x_test, maxlen=max_length)\n",
        "\n",
        "#BUILD AN LSTM MODEL\n",
        "model = Sequential()\n",
        "model.add(Embedding(input_dim=num_words, output_dim=128, input_length=max_length))\n",
        "model.add(LSTM(128))\n",
        "model.add(Dense(1, activation=\"sigmoid\"))\n",
        "\n",
        "#COMPILE THE MODEL\n",
        "model.compile(optimizer=\"adam\", loss=\"binary_crossentropy\", metrics=[\"accuracy\"])\n",
        "\n",
        "#TRAIN THE MODEL\n",
        "model.fit(x_train, y_train, epochs=5, batch_size=32)\n",
        "\n",
        "#EVALUATE THE MODEL\n",
        "loss, accuracy = model.evaluate(x_test, y_test)\n",
        "print(f\"Test Loss: {loss:.4f}\")\n",
        "print(f\"Test Accuracy: {accuracy*100:.2f}%\")"
      ]
    },
    {
      "cell_type": "code",
      "source": [],
      "metadata": {
        "id": "6mgGrFu8Qfj6"
      },
      "execution_count": null,
      "outputs": []
    }
  ]
}