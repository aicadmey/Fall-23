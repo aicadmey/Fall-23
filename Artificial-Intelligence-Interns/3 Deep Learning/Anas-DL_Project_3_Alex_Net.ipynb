{
  "nbformat": 4,
  "nbformat_minor": 0,
  "metadata": {
    "colab": {
      "provenance": []
    },
    "kernelspec": {
      "name": "python3",
      "display_name": "Python 3"
    },
    "language_info": {
      "name": "python"
    }
  },
  "cells": [
    {
      "cell_type": "code",
      "execution_count": 11,
      "metadata": {
        "id": "qyfrkuOwPhBc"
      },
      "outputs": [],
      "source": [
        "#BASIC ALEX NET PROGRAM\n",
        "from tensorflow.keras.models import Sequential\n",
        "from tensorflow.keras.layers import  Conv2D, MaxPooling2D, Flatten, Dense, Dropout\n",
        "\n",
        "model = Sequential()\n",
        "\n",
        "#FIRST CONVOLUTIONAL LAYER\n",
        "model.add(Conv2D(filters=96, kernel_size=(11, 11), strides=(4, 4), activation= \"relu\", input_shape=(224, 224, 3)))\n",
        "\n",
        "#MAX POOLING LAYER\n",
        "model.add(MaxPooling2D(pool_size=(3, 3), strides=(2, 2)))\n",
        "\n",
        "#SECOND cONVOLUTIONAL LAYERS\n",
        "model.add(Conv2D(filters=256, kernel_size=(5, 5), activation=\"relu\"))\n",
        "\n",
        "#MAX POOLING LAYER\n",
        "model.add(MaxPooling2D(pool_size=(3, 3), strides=(2, 2)))\n",
        "\n",
        "#THIRD CONVOLUTIONAL LAYER\n",
        "model.add(Conv2D(filters=384, kernel_size=(3, 3), activation='relu'))\n",
        "\n",
        "#FOURTH CONVOLUTIONAL LAYER\n",
        "model.add(Conv2D(filters=384, kernel_size=(3, 3), activation='relu'))\n",
        "\n",
        "#FIFTH CONVOLUTIONAL LAYER\n",
        "model.add(Conv2D(filters=256, kernel_size=(3, 3), activation='relu'))\n",
        "\n",
        "#MAX POOLING LAYER\n",
        "model.add(MaxPooling2D(pool_size=(3, 3), strides=(2, 2)))\n",
        "\n",
        "#FLATTENING THYE OUTPUT FOR FULLY CONNECTED LAYERS\n",
        "model.add(Flatten())\n",
        "\n",
        "#FULLY CONNECTED LAYER\n",
        "model.add(Dense(4096, activation='relu'))\n",
        "model.add(Dropout(0.5))\n",
        "model.add(Dense(4096, activation='relu'))\n",
        "model.add(Dropout(0.5))\n",
        "model.add(Dense(1000, activation='softmax'))"
      ]
    },
    {
      "cell_type": "code",
      "source": [],
      "metadata": {
        "id": "pTvU3k-udzaN"
      },
      "execution_count": null,
      "outputs": []
    }
  ]
}