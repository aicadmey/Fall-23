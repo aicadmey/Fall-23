{
  "nbformat": 4,
  "nbformat_minor": 0,
  "metadata": {
    "colab": {
      "provenance": [],
      "authorship_tag": "ABX9TyMlHXLDGIYujjiVdZ9Tld2r",
      "include_colab_link": true
    },
    "kernelspec": {
      "name": "python3",
      "display_name": "Python 3"
    },
    "language_info": {
      "name": "python"
    }
  },
  "cells": [
    {
      "cell_type": "markdown",
      "metadata": {
        "id": "view-in-github",
        "colab_type": "text"
      },
      "source": [
        "<a href=\"https://colab.research.google.com/github/AlishbaFatimaa/AI_Cadmey/blob/main/Project_5.ipynb\" target=\"_parent\"><img src=\"https://colab.research.google.com/assets/colab-badge.svg\" alt=\"Open In Colab\"/></a>"
      ]
    },
    {
      "cell_type": "code",
      "execution_count": 1,
      "metadata": {
        "colab": {
          "base_uri": "https://localhost:8080/"
        },
        "id": "N4TGFaZRdtQ4",
        "outputId": "064c8724-dd30-4745-83ff-91a13fe30594"
      },
      "outputs": [
        {
          "output_type": "stream",
          "name": "stdout",
          "text": [
            "The fruit is predicted to be: grape\n"
          ]
        }
      ],
      "source": [
        "# Decision Tree for Fruit Classification\n",
        "\n",
        "from sklearn.tree import DecisionTreeClassifier\n",
        "\n",
        "# Sample data: (color, diameter, label)\n",
        "data = [\n",
        "    [\"red\", 3, \"apple\"],\n",
        "    [\"green\", 3, \"apple\"],\n",
        "    [\"yellow\", 1, \"banana\"],\n",
        "    [\"yellow\", 3, \"banana\"],\n",
        "    [\"red\", 1, \"grape\"],\n",
        "]\n",
        "\n",
        "# Split data into features and labels\n",
        "features = [x[:2] for x in data]\n",
        "labels = [x[2] for x in data]\n",
        "\n",
        "# Map color names to numerical values\n",
        "color_mapping = {\"red\": 0, \"green\": 1, \"yellow\": 2}\n",
        "features = [[color_mapping[color], diameter] for color, diameter in features]\n",
        "\n",
        "# Create a decision tree classifier\n",
        "clf = DecisionTreeClassifier()\n",
        "\n",
        "# Train the classifier\n",
        "clf.fit(features, labels)\n",
        "\n",
        "# Make predictions for a new fruit\n",
        "new_fruit = [\"red\", 2]  # Example: red color, 2 in diameter\n",
        "new_fruit = [color_mapping[new_fruit[0]], new_fruit[1]]\n",
        "predicted_label = clf.predict([new_fruit])\n",
        "\n",
        "print(f\"The fruit is predicted to be: {predicted_label[0]}\")\n"
      ]
    },
    {
      "cell_type": "code",
      "source": [],
      "metadata": {
        "id": "oW3c8kjAduKV"
      },
      "execution_count": 1,
      "outputs": []
    }
  ]
}