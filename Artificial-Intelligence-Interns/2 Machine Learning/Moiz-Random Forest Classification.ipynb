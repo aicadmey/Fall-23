{
 "cells": [
  {
   "cell_type": "code",
   "execution_count": 1,
   "id": "2bca3949",
   "metadata": {},
   "outputs": [],
   "source": [
    "import pandas as pd\n",
    "import numpy as np\n",
    "from sklearn.model_selection import train_test_split\n",
    "from sklearn.ensemble import RandomForestClassifier\n",
    "from sklearn.metrics import classification_report, confusion_matrix, accuracy_score\n",
    "from nltk.corpus import stopwords\n",
    "from nltk.stem.porter import PorterStemmer\n",
    "from sklearn.feature_extraction.text import CountVectorizer"
   ]
  },
  {
   "cell_type": "code",
   "execution_count": null,
   "id": "d6fe239a",
   "metadata": {},
   "outputs": [],
   "source": [
    "reviews = pd.read_csv('movie_reviews.csv')\n",
    "def preprocess_text(text):\n",
    "    text = text.lower()\n",
    "    text = ''.join(c for c in text if c not in string.punctuation)\n",
    "    text = ' '.join(word for word in text.split() if word not in stopwords.words('english'))\n",
    "    text = PorterStemmer().stem(text)\n",
    "\n",
    "    return text\n",
    "\n",
    "reviews['review'] = reviews['review'].apply(preprocess_text)\n",
    "\n",
    "vectorizer = CountVectorizer(analyzer = 'word')\n",
    "X = vectorizer.fit_transform(reviews['review'])\n",
    "\n",
    "X_train, X_test, y_train, y_test = train_test_split(X, reviews['sentiment'], test_size = 0.2, random_state = 42)\n",
    "rf_classifier = RandomForestClassifier(n_estimators = 100, random_state = 42)\n",
    "\n",
    "rf_classifier.fit(X_train, y_train)\n",
    "y_pred = rf_classifier.predict(X_test)"
   ]
  }
 ],
 "metadata": {
  "kernelspec": {
   "display_name": "Python 3 (ipykernel)",
   "language": "python",
   "name": "python3"
  },
  "language_info": {
   "codemirror_mode": {
    "name": "ipython",
    "version": 3
   },
   "file_extension": ".py",
   "mimetype": "text/x-python",
   "name": "python",
   "nbconvert_exporter": "python",
   "pygments_lexer": "ipython3",
   "version": "3.10.9"
  }
 },
 "nbformat": 4,
 "nbformat_minor": 5
}
