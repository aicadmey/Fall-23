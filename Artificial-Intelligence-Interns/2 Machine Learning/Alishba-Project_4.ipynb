{
  "nbformat": 4,
  "nbformat_minor": 0,
  "metadata": {
    "colab": {
      "provenance": [],
      "authorship_tag": "ABX9TyNscCcne6+uj/wXwkCOd0AC",
      "include_colab_link": true
    },
    "kernelspec": {
      "name": "python3",
      "display_name": "Python 3"
    },
    "language_info": {
      "name": "python"
    }
  },
  "cells": [
    {
      "cell_type": "markdown",
      "metadata": {
        "id": "view-in-github",
        "colab_type": "text"
      },
      "source": [
        "<a href=\"https://colab.research.google.com/github/AlishbaFatimaa/AI_Cadmey/blob/main/Project_4.ipynb\" target=\"_parent\"><img src=\"https://colab.research.google.com/assets/colab-badge.svg\" alt=\"Open In Colab\"/></a>"
      ]
    },
    {
      "cell_type": "code",
      "execution_count": 2,
      "metadata": {
        "colab": {
          "base_uri": "https://localhost:8080/"
        },
        "id": "iz9xN8qnCHYD",
        "outputId": "79cdc2b0-9b3a-4853-b267-ad98794e61a6"
      },
      "outputs": [
        {
          "output_type": "stream",
          "name": "stdout",
          "text": [
            "Predicted price for a 2-bedroom house: $150.00\n"
          ]
        }
      ],
      "source": [
        "import numpy as np\n",
        "from sklearn.linear_model import LinearRegression\n",
        "\n",
        "# Sample data: Number of bedrooms and corresponding house prices\n",
        "bedrooms = np.array([1, 2, 3, 4, 5])\n",
        "prices = np.array([100, 150, 200, 250, 300])\n",
        "\n",
        "# Reshape the data (required for scikit-learn)\n",
        "bedrooms = bedrooms.reshape(-1, 1)\n",
        "\n",
        "# Create and train a linear regression model\n",
        "model = LinearRegression()\n",
        "model.fit(bedrooms, prices)\n",
        "\n",
        "# Predict the price for a house with 2 bedrooms\n",
        "predicted_price = model.predict([[2]])\n",
        "\n",
        "print(f\"Predicted price for a 2-bedroom house: ${predicted_price[0]:.2f}\")\n"
      ]
    }
  ]
}