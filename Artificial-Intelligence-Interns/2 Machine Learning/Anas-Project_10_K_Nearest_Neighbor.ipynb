{
  "nbformat": 4,
  "nbformat_minor": 0,
  "metadata": {
    "colab": {
      "provenance": []
    },
    "kernelspec": {
      "name": "python3",
      "display_name": "Python 3"
    },
    "language_info": {
      "name": "python"
    }
  },
  "cells": [
    {
      "cell_type": "code",
      "execution_count": 3,
      "metadata": {
        "colab": {
          "base_uri": "https://localhost:8080/"
        },
        "id": "ilIX4gsRxD6R",
        "outputId": "bc8445ac-5346-4140-de54-8eb1c21f2eb0"
      },
      "outputs": [
        {
          "output_type": "stream",
          "name": "stdout",
          "text": [
            "Accuracy: 100.00%\n",
            "              precision    recall  f1-score   support\n",
            "\n",
            "      setosa       1.00      1.00      1.00        10\n",
            "  versicolor       1.00      1.00      1.00         9\n",
            "   virginica       1.00      1.00      1.00        11\n",
            "\n",
            "    accuracy                           1.00        30\n",
            "   macro avg       1.00      1.00      1.00        30\n",
            "weighted avg       1.00      1.00      1.00        30\n",
            "\n"
          ]
        }
      ],
      "source": [
        "#IMPORTING ALL LIBRARIES\n",
        "from sklearn.datasets import load_iris\n",
        "from sklearn.model_selection import train_test_split\n",
        "from sklearn.neighbors import KNeighborsClassifier\n",
        "from sklearn.metrics import  accuracy_score, classification_report\n",
        "\n",
        "#LOADING THE IRIS DATASET\n",
        "iris = load_iris()\n",
        "X = iris.data\n",
        "y = iris.target\n",
        "\n",
        "#PLITTING THE DATASET INTO TRAINING & TESTING\n",
        "X_train, X_test, y_train, y_test= train_test_split(X, y, test_size=0.2, random_state=42)\n",
        "\n",
        "#CREATING A K-NEAREST NEIGHBOR CLASSIFIER\n",
        "clf = KNeighborsClassifier(n_neighbors=3)\n",
        "\n",
        "#TRAINING THE CLASSIFIER ON THE TRAININJNG DATA\n",
        "clf.fit(X_train, y_train)\n",
        "\n",
        "#MAKING PREDICTION ON THE TEST DATA\n",
        "y_pred = clf.predict(X_test)\n",
        "\n",
        "#EVALUATE THE MODEL\n",
        "accuracy = accuracy_score(y_test, y_pred)\n",
        "print(f\"Accuracy: {accuracy * 100:.2f}%\")\n",
        "\n",
        "#DISPLAY A CLASSIFICATION REPORT\n",
        "class_names = iris.target_names\n",
        "print(classification_report(y_test, y_pred, target_names=class_names))\n"
      ]
    },
    {
      "cell_type": "code",
      "source": [],
      "metadata": {
        "id": "6vQo1Tdz0DCt"
      },
      "execution_count": 1,
      "outputs": []
    }
  ]
}