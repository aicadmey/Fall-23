{
  "nbformat": 4,
  "nbformat_minor": 0,
  "metadata": {
    "colab": {
      "provenance": []
    },
    "kernelspec": {
      "name": "python3",
      "display_name": "Python 3"
    },
    "language_info": {
      "name": "python"
    }
  },
  "cells": [
    {
      "cell_type": "code",
      "execution_count": 3,
      "metadata": {
        "colab": {
          "base_uri": "https://localhost:8080/"
        },
        "id": "ZwtlcEgY7O5m",
        "outputId": "416442cd-b51c-46ca-d802-eacae2be8f0a"
      },
      "outputs": [
        {
          "output_type": "stream",
          "name": "stdout",
          "text": [
            "Accuracy: 100.00%\n",
            "Confusion Matrix:\n",
            "[[1 0]\n",
            " [0 1]]\n"
          ]
        }
      ],
      "source": [
        "#IMPORTING NECESSARY LIBRARIES\n",
        "import numpy as np\n",
        "from sklearn.model_selection import train_test_split\n",
        "from sklearn.linear_model import LogisticRegression\n",
        "from sklearn.metrics import accuracy_score, confusion_matrix\n",
        "\n",
        "#SAMPLE DATA\n",
        "X = np.array([\n",
        "    [0.2, 0.1, 0.3, 0.4],\n",
        "    [0.3, 0.2, 0.4, 0.5],\n",
        "    [0.7, 0.8, 0.6, 0.2],\n",
        "    [0.9, 0.7, 0.8, 0.4],\n",
        "    [0.1, 0.2, 0.2, 0.3],\n",
        "    [0.6, 0.4, 0.5, 0.7],\n",
        "    [0.5, 0.6, 0.6, 0.8],\n",
        "    [0.2, 0.4, 0.1, 0.3],\n",
        "])                                   #FEATURES(e.g WORD FREQUENCIES)\n",
        "y= np.array([0, 0, 1, 1, 0, 1, 1, 0])#LABELS(0 FOR SPAM & 1 FOR NOT SPAM)\n",
        "\n",
        "#SPLITTING THE DATASET INTO TRAINING AND TESTING\n",
        "X_train, X_test, y_train, y_test = train_test_split(X, y, test_size=0.2, random_state=42)\n",
        "\n",
        "#CREATE A LOGISTIC REGRESSION MODEL\n",
        "model = LogisticRegression()\n",
        "\n",
        "#TRAIN THE MODEL ON THE TRAINING DATA\n",
        "model.fit(X_train, y_train)\n",
        "\n",
        "#MAKE PREDICTION ON THE TEST DATA\n",
        "y_pred = model.predict(X_test)\n",
        "\n",
        "#CALCULATE THE ACCURACY OF THE CLASSIFIER\n",
        "accuracy = accuracy_score(y_test, y_pred)\n",
        "print(f\"Accuracy: {accuracy * 100:.2f}%\")\n",
        "\n",
        "#DISPLAY THE CONFUSION MATRIX\n",
        "confusion = confusion_matrix(y_test, y_pred)\n",
        "print(\"Confusion Matrix:\")\n",
        "print(confusion)"
      ]
    },
    {
      "cell_type": "code",
      "source": [],
      "metadata": {
        "id": "dEQg0-bcCZ-Z"
      },
      "execution_count": null,
      "outputs": []
    }
  ]
}