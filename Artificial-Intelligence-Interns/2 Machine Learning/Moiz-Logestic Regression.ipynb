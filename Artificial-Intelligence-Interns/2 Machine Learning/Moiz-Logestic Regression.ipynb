{
 "cells": [
  {
   "cell_type": "code",
   "execution_count": null,
   "id": "f08d555e",
   "metadata": {},
   "outputs": [],
   "source": [
    "import pandas as pd\n",
    "from sklearn.model_selection import train_test_split\n",
    "from sklearn.linear_model import LogisticRegression\n",
    "from sklearn.metrics import accuracy_score, classification_report, confusion_matrix\n",
    "\n",
    "# Assume the university admissions dataset is stored in 'admissions.csv'\n",
    "df = pd.read_csv('university_admissions')\n",
    "\n",
    "# The 'chance_of_admit' column indicates whether the student was admitted or not.\n",
    "# 1 means the student was admitted, and 0 means the student was not admitted.\n",
    "df['chance_of_admit'] = df['chance_of_admit'].map({'Yes': 1, 'No': 0})\n",
    "\n",
    "df = df.drop(['Serial No', 'Sex', 'School', 'Name'], axis=1)\n",
    "\n",
    "X = df.drop('chance_of_admit', axis=1)\n",
    "y = df['chance_of_admit']\n",
    "\n",
    "X_train, X_test, y_train, y_test = train_test_split(X, y, test_size=0.2, random_state=42)\n",
    "\n",
    "# Create a logistic regression model\n",
    "model = LogisticRegression()\n",
    "\n",
    "model.fit(X_train, y_train)\n",
    "\n",
    "# Make predictions on the testing data\n",
    "y_pred = model.predict(X_test)\n",
    "\n",
    "# Print the accuracy of the model\n",
    "print('Accuracy:', accuracy_score(y_test, y_pred))\n",
    "\n",
    "# Print the classification report\n",
    "print(classification_report(y_test, y_pred))\n",
    "\n",
    "# Print the confusion matrix\n",
    "print(confusion_matrix(y_test, y_pred))"
   ]
  }
 ],
 "metadata": {
  "kernelspec": {
   "display_name": "Python 3 (ipykernel)",
   "language": "python",
   "name": "python3"
  },
  "language_info": {
   "codemirror_mode": {
    "name": "ipython",
    "version": 3
   },
   "file_extension": ".py",
   "mimetype": "text/x-python",
   "name": "python",
   "nbconvert_exporter": "python",
   "pygments_lexer": "ipython3",
   "version": "3.10.9"
  }
 },
 "nbformat": 4,
 "nbformat_minor": 5
}
