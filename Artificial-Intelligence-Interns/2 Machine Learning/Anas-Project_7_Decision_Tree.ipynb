{
  "nbformat": 4,
  "nbformat_minor": 0,
  "metadata": {
    "colab": {
      "provenance": []
    },
    "kernelspec": {
      "name": "python3",
      "display_name": "Python 3"
    },
    "language_info": {
      "name": "python"
    }
  },
  "cells": [
    {
      "cell_type": "code",
      "execution_count": 6,
      "metadata": {
        "colab": {
          "base_uri": "https://localhost:8080/"
        },
        "id": "n21WAGFOzP6q",
        "outputId": "dfb375bb-90fe-4c21-e5be-a4edc6f61616"
      },
      "outputs": [
        {
          "output_type": "stream",
          "name": "stdout",
          "text": [
            "Accuracy: 100.00%\n",
            "              precision    recall  f1-score   support\n",
            "\n",
            "      setosa       1.00      1.00      1.00        10\n",
            "  versicolor       1.00      1.00      1.00         9\n",
            "   virginica       1.00      1.00      1.00        11\n",
            "\n",
            "    accuracy                           1.00        30\n",
            "   macro avg       1.00      1.00      1.00        30\n",
            "weighted avg       1.00      1.00      1.00        30\n",
            "\n"
          ]
        }
      ],
      "source": [
        "from traitlets.utils.importstring import import_item\n",
        "#IMPORTING ALL NECESSARY LIBRARIES\n",
        "import numpy as np\n",
        "import pandas as pd\n",
        "from sklearn.datasets import load_iris\n",
        "from sklearn.model_selection import train_test_split\n",
        "from sklearn.tree import DecisionTreeClassifier\n",
        "from sklearn.metrics import accuracy_score, classification_report\n",
        "\n",
        "#LOAD THE DATASET\n",
        "iris = load_iris()\n",
        "X = iris.data\n",
        "y = iris.target\n",
        "\n",
        "#SPLITIING THE DATASET INTO TRAINING & TSETING SETS\n",
        "X_train, X_test, y_train, y_test = train_test_split(X, y, test_size=0.2, random_state=42)\n",
        "\n",
        "#CREATING A DECISION TREE CLASSIFIER\n",
        "D_Tree = DecisionTreeClassifier()\n",
        "\n",
        "#TRAINING THE CLASSIFIER ON THE TRAINING DATA\n",
        "D_Tree.fit(X_train, y_train)\n",
        "\n",
        "#MAKING PREDICTION ON THE TEST DATA\n",
        "y_pred = D_Tree.predict(X_test)\n",
        "\n",
        "#EVALUATE THE MODEL\n",
        "accuracy = accuracy_score(y_test, y_pred)\n",
        "print(f\"Accuracy: {accuracy * 100:.2f}%\")\n",
        "\n",
        "#DISPLAY A CLASSIFICATION REPORT\n",
        "class_name = iris.target_names\n",
        "print(classification_report(y_test, y_pred, target_names =class_name))"
      ]
    },
    {
      "cell_type": "code",
      "source": [],
      "metadata": {
        "id": "RRaIJ9cbzzBT"
      },
      "execution_count": null,
      "outputs": []
    }
  ]
}