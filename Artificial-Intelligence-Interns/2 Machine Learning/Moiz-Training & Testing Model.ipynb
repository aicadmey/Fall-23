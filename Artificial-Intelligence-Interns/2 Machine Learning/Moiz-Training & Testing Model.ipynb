{
 "cells": [
  {
   "cell_type": "code",
   "execution_count": null,
   "id": "ce5dba15",
   "metadata": {},
   "outputs": [],
   "source": [
    "# Import necessary libraries\n",
    "import numpy as np\n",
    "from sklearn.model_selection import train_test_split\n",
    "from sklearn.linear_model import LinearRegression\n",
    "import matplotlib.pyplot as plt\n",
    "\n",
    "# Generate some example data\n",
    "np.random.seed(0)\n",
    " # House size as the feature\n",
    "X = np.random.rand(100, 1) \n",
    "# House price as the target\n",
    "y = 2 * X + 1 + 0.1 * np.random.rand(100)  \n",
    "\n",
    "\n",
    "# Split the data into training and testing sets\n",
    "X_train, X_test, y_train, y_test = train_test_split(X, y, test_size=0.2, random_state=42)\n",
    "\n",
    "# Create a Linear Regression model\n",
    "model = LinearRegression()\n",
    "\n",
    "# Train the model on the training data\n",
    "model.fit(X_train, y_train)\n",
    "\n",
    "# Make predictions on the test data\n",
    "y_pred = model.predict(X_test)\n",
    "\n",
    "# Plot the training data, test data, and the regression line\n",
    "plt.scatter(X_train, y_train, label=\"Training Data\")\n",
    "plt.scatter(X_test, y_test, label=\"Test Data\")\n",
    "plt.plot(X_test, y_pred, color='red', label=\"Regression Line\")\n",
    "plt.xlabel(\"House Size\")\n",
    "plt.ylabel(\"House Price\")\n",
    "plt.legend()\n",
    "plt.show()\n"
   ]
  }
 ],
 "metadata": {
  "kernelspec": {
   "display_name": "Python 3 (ipykernel)",
   "language": "python",
   "name": "python3"
  },
  "language_info": {
   "codemirror_mode": {
    "name": "ipython",
    "version": 3
   },
   "file_extension": ".py",
   "mimetype": "text/x-python",
   "name": "python",
   "nbconvert_exporter": "python",
   "pygments_lexer": "ipython3",
   "version": "3.11.3"
  }
 },
 "nbformat": 4,
 "nbformat_minor": 5
}
