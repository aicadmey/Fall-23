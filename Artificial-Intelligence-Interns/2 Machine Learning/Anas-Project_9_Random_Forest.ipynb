{
  "nbformat": 4,
  "nbformat_minor": 0,
  "metadata": {
    "colab": {
      "provenance": []
    },
    "kernelspec": {
      "name": "python3",
      "display_name": "Python 3"
    },
    "language_info": {
      "name": "python"
    }
  },
  "cells": [
    {
      "cell_type": "code",
      "execution_count": 3,
      "metadata": {
        "colab": {
          "base_uri": "https://localhost:8080/"
        },
        "id": "Ah9RwVCeAXy9",
        "outputId": "034044ec-a72c-4f0d-878e-3589ef3514ca"
      },
      "outputs": [
        {
          "output_type": "stream",
          "name": "stdout",
          "text": [
            "Accuracy: 100.00%\n",
            "              precision    recall  f1-score   support\n",
            "\n",
            "      setosa       1.00      1.00      1.00        10\n",
            "  versicolor       1.00      1.00      1.00         9\n",
            "   virginica       1.00      1.00      1.00        11\n",
            "\n",
            "    accuracy                           1.00        30\n",
            "   macro avg       1.00      1.00      1.00        30\n",
            "weighted avg       1.00      1.00      1.00        30\n",
            "\n"
          ]
        }
      ],
      "source": [
        "#IMPORTING THE LIBTRARIES\n",
        "import numpy as np\n",
        "from sklearn.datasets import load_iris\n",
        "from sklearn.model_selection import train_test_split\n",
        "from sklearn.ensemble import RandomForestClassifier\n",
        "from sklearn.metrics import accuracy_score, classification_report\n",
        "\n",
        "#LOADING THE DATASET\n",
        "iris = load_iris()\n",
        "X = iris.data\n",
        "y = iris.target\n",
        "\n",
        "#SPLITTING THE DATASET INTO TRAINING AND TESTING\n",
        "X_train, X_test, y_train, y_test = train_test_split(X, y, test_size=0.2, random_state=42)\n",
        "\n",
        "#CREATING A RANDOM CLASSIFIER\n",
        "clf = RandomForestClassifier(n_estimators=100,  random_state=42)\n",
        "\n",
        "#TRAINING THE CLASSIFIER ON THE TRAINING DATA\n",
        "clf.fit(X_train, y_train)\n",
        "\n",
        "#MAKING PREDICTIONS ON THE TEST DATA\n",
        "y_pred = clf.predict(X_test)\n",
        "\n",
        "#EVALUATE THE MODEL\n",
        "accuracy = accuracy_score(y_test, y_pred)\n",
        "print(f\"Accuracy: {accuracy * 100:.2f}%\")\n",
        "\n",
        "#DISPLAY THE CLASSIFICATION REPORT\n",
        "class_name = iris.target_names\n",
        "print(classification_report(y_test, y_pred, target_names=class_name))"
      ]
    },
    {
      "cell_type": "code",
      "source": [],
      "metadata": {
        "id": "t9wu1rs6BpSN"
      },
      "execution_count": null,
      "outputs": []
    }
  ]
}